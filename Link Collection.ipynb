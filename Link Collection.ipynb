{
 "cells": [
  {
   "cell_type": "code",
   "execution_count": 9,
   "metadata": {},
   "outputs": [],
   "source": [
    "#Importing libraries\n",
    "from bs4 import BeautifulSoup\n",
    "import requests\n",
    "import re\n",
    "import urllib\n",
    "import pprint\n",
    "from urllib import parse\n",
    "import time\n",
    "import pickle"
   ]
  },
  {
   "cell_type": "code",
   "execution_count": 10,
   "metadata": {},
   "outputs": [],
   "source": [
    "#Parent url\n",
    "url = 'https://www.nhs.uk/servicedirectories/pages/nhstrustlisting.aspx'"
   ]
  },
  {
   "cell_type": "code",
   "execution_count": 11,
   "metadata": {},
   "outputs": [],
   "source": [
    "#Creating a BeautifulSoup object out of the parent page's HTML\n",
    "data = requests.get(url)\n",
    "soup = BeautifulSoup(data.text, 'html.parser')"
   ]
  },
  {
   "cell_type": "code",
   "execution_count": 12,
   "metadata": {},
   "outputs": [],
   "source": [
    "#Collecting every link on the parent page and assembling it into a dictionary with its name and link as key:value pairs\n",
    "link_dict = {}\n",
    "for link in soup.find_all('a'): link_dict.update({str(link.get('title')):str(link.get('href'))})"
   ]
  },
  {
   "cell_type": "code",
   "execution_count": 17,
   "metadata": {},
   "outputs": [
    {
     "name": "stdout",
     "output_type": "stream",
     "text": [
      "test\n"
     ]
    }
   ],
   "source": [
    "#Creating a list of all the values in the link dictionary and concatenating it with the parent url to reach the correct end url\n",
    "link_vals = []\n",
    "\n",
    "for value in link_dict.values():\n",
    "    link_vals.append('https://www.nhs.uk/'+value)\n",
    "print('test')"
   ]
  },
  {
   "cell_type": "code",
   "execution_count": 14,
   "metadata": {},
   "outputs": [],
   "source": [
    "#This is the most complex part of the script\n",
    "\n",
    "#The list where all the links in each of the linked urls will be stored\n",
    "firstnestlinks = []\n",
    "\n",
    "#The regex for matching only links that are contact detail sub-links. This is where the postcodes are found\n",
    "r = re.compile(\".*ContactDetails.\")\n",
    "\n",
    "#Delving into the links' sub-links and adds all of them to the firstnestlinks list\n",
    "for link in link_vals:\n",
    "    link = requests.get(link)\n",
    "    link = BeautifulSoup(link.text,'html.parser')\n",
    "    link = link.find_all(class_=\"tabs-nav\")\n",
    "    for tag in link:\n",
    "        for anchor in tag.find_all('a'):\n",
    "            firstnestlinks.append(anchor['href'])\n",
    "            time.sleep(0.15) #This is important! We do not want to DDOS the NHS."
   ]
  },
  {
   "cell_type": "code",
   "execution_count": 15,
   "metadata": {},
   "outputs": [],
   "source": [
    "#Finally, taking all the links in the firstnestlinks list and filtering them down to only the Contact Details links\n",
    "linklist = list(filter(r.match, firstnestlinks))"
   ]
  },
  {
   "cell_type": "code",
   "execution_count": 16,
   "metadata": {},
   "outputs": [],
   "source": [
    "#Storing the list of links as a pickle object to avoid re-running this script and reduce calls to the NHS' servers\n",
    "#We will start the next script by calling this object\n",
    "pickle.dump(linklist, open( \"linklist2.p\", \"wb\" ) )"
   ]
  },
  {
   "cell_type": "code",
   "execution_count": 19,
   "metadata": {},
   "outputs": [],
   "source": []
  },
  {
   "cell_type": "code",
   "execution_count": null,
   "metadata": {},
   "outputs": [],
   "source": []
  },
  {
   "cell_type": "code",
   "execution_count": null,
   "metadata": {},
   "outputs": [],
   "source": []
  }
 ],
 "metadata": {
  "kernelspec": {
   "display_name": "Python 3",
   "language": "python",
   "name": "python3"
  },
  "language_info": {
   "codemirror_mode": {
    "name": "ipython",
    "version": 3
   },
   "file_extension": ".py",
   "mimetype": "text/x-python",
   "name": "python",
   "nbconvert_exporter": "python",
   "pygments_lexer": "ipython3",
   "version": "3.7.3"
  }
 },
 "nbformat": 4,
 "nbformat_minor": 2
}
