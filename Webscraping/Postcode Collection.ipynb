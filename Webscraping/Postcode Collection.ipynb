{
 "cells": [
  {
   "cell_type": "code",
   "execution_count": 1,
   "metadata": {},
   "outputs": [],
   "source": [
    "#Importing libraries\n",
    "from bs4 import BeautifulSoup\n",
    "import requests\n",
    "import re\n",
    "import urllib\n",
    "import pprint\n",
    "from urllib import parse\n",
    "import time\n",
    "import pickle"
   ]
  },
  {
   "cell_type": "code",
   "execution_count": 2,
   "metadata": {},
   "outputs": [],
   "source": [
    "#Parent url\n",
    "url = 'https://www.nhs.uk/servicedirectories/pages/nhstrustlisting.aspx'"
   ]
  },
  {
   "cell_type": "code",
   "execution_count": 3,
   "metadata": {},
   "outputs": [],
   "source": [
    "#Creating a BeautifulSoup object out of the parent page's HTML\n",
    "data = requests.get(url)\n",
    "soup = BeautifulSoup(data.text, 'html.parser')"
   ]
  },
  {
   "cell_type": "code",
   "execution_count": 4,
   "metadata": {},
   "outputs": [],
   "source": [
    "#Calling the linklist pickle file from earlier\n",
    "linklist = pickle.load( open( \"linklist.p\", \"rb\" ) )"
   ]
  },
  {
   "cell_type": "code",
   "execution_count": 5,
   "metadata": {},
   "outputs": [],
   "source": [
    "#Adding the root string to each link\n",
    "fullreadlinks = []\n",
    "\n",
    "for link in linklist:\n",
    "    fullreadlinks.append('https://www.nhs.uk/'+link.replace(r\"'\",\"\"))"
   ]
  },
  {
   "cell_type": "code",
   "execution_count": 6,
   "metadata": {},
   "outputs": [],
   "source": [
    "#Filling lists of postcodes and names\n",
    "postcodes = []\n",
    "names = []\n",
    "for link in fullreadlinks:\n",
    "    link = requests.get(link)\n",
    "    link = BeautifulSoup(link.text,'html.parser')\n",
    "    if re.search(\"[A-Z]+[0-9]+[A-Z]?\\s[0-9][A-Z][A-Z]\",str(link)) != None:\n",
    "        postcodes.append(re.search(\"[A-Z]+[0-9]+[A-Z]?\\s[0-9][A-Z][A-Z]\",str(link))[0])\n",
    "        names.append(str(re.search(\"Contact details - .+ -\",str(link))[0]).replace('Contact details - ','').replace(' -',''))\n",
    "    else:\n",
    "        print('Missing postcode') #Useful for detecting failures.\n",
    "    time.sleep(0.15) #This is important! We do not want to DDOS the NHS."
   ]
  },
  {
   "cell_type": "code",
   "execution_count": 8,
   "metadata": {},
   "outputs": [],
   "source": [
    "#Storing the lists of postcodes and names as pickle objects to avoid re-running this script and reduce calls to the NHS' servers\n",
    "pickle.dump(postcodes, open( \"postcodes.p\", \"wb\") )\n",
    "pickle.dump(names, open( \"names.p\", \"wb\") )"
   ]
  },
  {
   "cell_type": "code",
   "execution_count": null,
   "metadata": {},
   "outputs": [],
   "source": []
  },
  {
   "cell_type": "code",
   "execution_count": null,
   "metadata": {},
   "outputs": [],
   "source": []
  }
 ],
 "metadata": {
  "kernelspec": {
   "display_name": "Python 3",
   "language": "python",
   "name": "python3"
  },
  "language_info": {
   "codemirror_mode": {
    "name": "ipython",
    "version": 3
   },
   "file_extension": ".py",
   "mimetype": "text/x-python",
   "name": "python",
   "nbconvert_exporter": "python",
   "pygments_lexer": "ipython3",
   "version": "3.7.3"
  }
 },
 "nbformat": 4,
 "nbformat_minor": 2
}
