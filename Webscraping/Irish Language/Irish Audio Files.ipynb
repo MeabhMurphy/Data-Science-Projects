{
 "cells": [
  {
   "cell_type": "code",
   "execution_count": 5,
   "metadata": {},
   "outputs": [],
   "source": [
    "#import libraries\n",
    "from string import ascii_lowercase\n",
    "from bs4 import BeautifulSoup\n",
    "import os\n",
    "import random\n",
    "import re\n",
    "import requests\n",
    "import time"
   ]
  },
  {
   "cell_type": "code",
   "execution_count": 6,
   "metadata": {},
   "outputs": [],
   "source": [
    "#root url\n",
    "root = \"https://www.teanglann.ie/en/fuaim/_\""
   ]
  },
  {
   "cell_type": "code",
   "execution_count": 7,
   "metadata": {},
   "outputs": [],
   "source": [
    "#get a list of all the original letters\n",
    "alphabet = []\n",
    "for c in ascii_lowercase:\n",
    "    alphabet.append(root+c)"
   ]
  },
  {
   "cell_type": "code",
   "execution_count": 8,
   "metadata": {},
   "outputs": [],
   "source": [
    "#as each letter has its own page, a list of all 26 letters must be cycled through to obtain all the words\n",
    "soup_kitchen = []\n",
    "for element in range(0,26): soup_kitchen.append(BeautifulSoup(requests.get(alphabet[element]).text,'html.parser').find_all(\"span\",{\"class\": \"abcItem\"}))"
   ]
  },
  {
   "cell_type": "code",
   "execution_count": 9,
   "metadata": {},
   "outputs": [],
   "source": [
    "#create and fill a list of word links\n",
    "all_links = []\n",
    "for i in range(0,26):\n",
    "    for element in soup_kitchen[i]:\n",
    "        all_links.append(element.find_all('a'))"
   ]
  },
  {
   "cell_type": "code",
   "execution_count": 10,
   "metadata": {},
   "outputs": [],
   "source": [
    "#list of all the words\n",
    "words = []\n",
    "for word in all_links:\n",
    "    for bit in word:\n",
    "        words.append(bit.text)\n",
    "words = sorted(words)"
   ]
  },
  {
   "cell_type": "code",
   "execution_count": 11,
   "metadata": {},
   "outputs": [],
   "source": [
    "#remove all of the accents for the urls\n",
    "no_accents = []\n",
    "for word in words:\n",
    "    word = re.sub('á','%C3%A1',word)\n",
    "    word = re.sub('é','%C3%A9',word)\n",
    "    word = re.sub('í','%C3%AD',word)\n",
    "    word = re.sub('ó','%C3%B3',word)\n",
    "    word = re.sub('ú','%C3%BA',word)\n",
    "    word = re.sub('Á','%C3%81',word)\n",
    "    word = re.sub('É','%C3%89',word)\n",
    "    word = re.sub('Í','%C3%8D',word)\n",
    "    word = re.sub('Ó','%C3%93',word)\n",
    "    word = re.sub('Ú','%C3%9A',word)\n",
    "    word = re.sub(' ','%20',word)\n",
    "    no_accents.append(word)"
   ]
  },
  {
   "cell_type": "code",
   "execution_count": 12,
   "metadata": {},
   "outputs": [],
   "source": [
    "#list of Connaught urls\n",
    "Connaught = []\n",
    "for word in no_accents:\n",
    "    cWord = \"https://www.teanglann.ie/CanC/\"+\"(C) \"+word+\".mp3\"\n",
    "    Connaught.append(cWord)"
   ]
  },
  {
   "cell_type": "code",
   "execution_count": 13,
   "metadata": {},
   "outputs": [],
   "source": [
    "#list of Munster urls\n",
    "Munster = []\n",
    "for word in no_accents:\n",
    "    mWord = \"https://www.teanglann.ie/CanM/\"+\"(M) \"+word+\".mp3\"\n",
    "    Munster.append(mWord)"
   ]
  },
  {
   "cell_type": "code",
   "execution_count": 14,
   "metadata": {},
   "outputs": [],
   "source": [
    "#list of Ulster urls\n",
    "Ulster= []\n",
    "for word in no_accents:\n",
    "    uWord = \"https://www.teanglann.ie/CanU/\"+\"(U) \"+word+\".mp3\"\n",
    "    Ulster.append(uWord)"
   ]
  },
  {
   "cell_type": "code",
   "execution_count": null,
   "metadata": {},
   "outputs": [],
   "source": [
    "#pull Connaught mp3s\n",
    "for i in range(0,5):\n",
    "    r = requests.get(Connaught[i])\n",
    "    with open(os.getcwd()+'\\\\Cmp3s'+'\\\\'+words[i]+'.mp3', 'wb') as f:\n",
    "        f.write(r.content)\n",
    "    time.sleep(random.randint(1,4)*random.random()) #delay built in for politeness"
   ]
  },
  {
   "cell_type": "code",
   "execution_count": null,
   "metadata": {},
   "outputs": [],
   "source": [
    "#Munster mp3s\n",
    "for i in range(0,18909):\n",
    "    r = requests.get(Munster[i])\n",
    "    with open(os.getcwd()+'\\\\Mmp3s'+'\\\\'+words[i]+'.mp3', 'wb') as f:\n",
    "        f.write(r.content)\n",
    "    time.sleep(random.randint(1,4)*random.random()) #delay for politeness"
   ]
  },
  {
   "cell_type": "code",
   "execution_count": null,
   "metadata": {},
   "outputs": [],
   "source": [
    "#Ulster mp3s\n",
    "for i in range(0,18909):\n",
    "    r = requests.get(Ulster[i])\n",
    "    with open(os.getcwd()+'\\\\Ump3s'+'\\\\'+words[i]+'.mp3', 'wb') as f:\n",
    "        f.write(r.content)\n",
    "    time.sleep(random.randint(1,4)*random.random()) #delay for politeness"
   ]
  }
 ],
 "metadata": {
  "kernelspec": {
   "display_name": "Python 3",
   "language": "python",
   "name": "python3"
  },
  "language_info": {
   "codemirror_mode": {
    "name": "ipython",
    "version": 3
   },
   "file_extension": ".py",
   "mimetype": "text/x-python",
   "name": "python",
   "nbconvert_exporter": "python",
   "pygments_lexer": "ipython3",
   "version": "3.7.6"
  }
 },
 "nbformat": 4,
 "nbformat_minor": 4
}
